{
 "cells": [
  {
   "cell_type": "code",
   "execution_count": 81,
   "id": "97ebe056-6a72-4576-b586-78c332c63caf",
   "metadata": {},
   "outputs": [],
   "source": [
    "import requests\n",
    "from bs4 import BeautifulSoup\n",
    "from selenium import webdriver\n",
    "from selenium.webdriver.common.keys import Keys\n",
    "import json\n",
    "import os\n",
    "import re\n",
    "import urllib3\n",
    "import urllib.parse\n",
    "from urllib.request import urlopen\n",
    "from urllib.parse import urlparse\n",
    "import numpy as np"
   ]
  },
  {
   "cell_type": "code",
   "execution_count": 144,
   "id": "abebd0f1-d424-4ce2-adc2-fd9609b36723",
   "metadata": {},
   "outputs": [],
   "source": [
    "def get_status(logs):\n",
    "    for log in logs:\n",
    "        if log['message']:\n",
    "            d = json.loads(log['message'])\n",
    "            try:\n",
    "                content_type = 'text/html' in d['message']['params']['response']['headers']['content-type']\n",
    "                response_received = d['message']['method'] == 'Network.responseReceived'\n",
    "                if content_type and response_received:\n",
    "                    return d['message']['params']['response']['status']\n",
    "            except:\n",
    "                pass\n",
    "\n",
    "def preprocess(line):\n",
    "    return ' '.join(line.replace('\\r',' ').replace('\\xa0',' ').replace('\\xad', ' ').strip().split())\n",
    "\n",
    "def get_text(soup):\n",
    "    text = []\n",
    "    for script in soup([\"script\", \"style\",\"footer\",\"input\",'link','meta','button']):\n",
    "        script.extract()\n",
    "\n",
    "    paragraph = '\\n'.join(list(dict.fromkeys([text for text in soup.stripped_strings])))\n",
    "    return paragraph\n",
    "\n",
    "\n",
    "final = '\\n'.join(list(set(text)))\n",
    "\n",
    "def get_all_links(url,link_hierarchy):\n",
    "    child_links = []\n",
    "    for script in soup([\"script\", \"style\"]):\n",
    "        script.extract()\n",
    "    \n",
    "    sublinks = [a.get('href') for a in soup.find_all('a') if a.get('href') and a.get('href').startswith('/')]\n",
    "    \n",
    "    sublinks = [link[1:] for link in sublinks]\n",
    "    sublinks = [*set(sublinks)]\n",
    "    sublinks = list(filter(None, sublinks))\n",
    "    \n",
    "    for link in sublinks:\n",
    "        if \".pdf\" not in link:\n",
    "            if 'www' in link:\n",
    "                new_url = os.path.join(url[:url.rfind('www')], urlparse(url).netloc, link)\n",
    "            else:\n",
    "                new_url = os.path.join(url[:url.rfind('//')+2], urlparse(url).netloc, link)\n",
    "            child_links.append(new_url)\n",
    "    \n",
    "    link_hierarchy[url] = child_links\n",
    "    return"
   ]
  },
  {
   "cell_type": "code",
   "execution_count": 26,
   "id": "460f4ff9-cca9-48e9-9599-28f093e978be",
   "metadata": {},
   "outputs": [],
   "source": [
    "chrome_options = webdriver.ChromeOptions()\n",
    "chrome_options.add_argument('--headless')\n",
    "chrome_options.add_argument('--no-sandbox')\n",
    "chrome_options.add_argument('--disable-dev-shm-usage')\n",
    "chrome_options.add_argument('--disable-blink-features=AutomationControlled')\n",
    "chrome_options.set_capability('goog:loggingPrefs', {'performance': 'ALL'})\n",
    "driver = webdriver.Chrome(options = chrome_options)"
   ]
  },
  {
   "cell_type": "code",
   "execution_count": 121,
   "id": "ac27855c-8877-48a0-a0e7-6e3bc77b28a9",
   "metadata": {},
   "outputs": [
    {
     "name": "stdin",
     "output_type": "stream",
     "text": [
      " https://alfabank.ru/ https://www.tinkoff.ru/ http://www.sberbank.ru/ru/person https://www.vtb.ru/ https://spbbank.ru/ https://business.rsb.ru/ https://www.gazprombank.ru/ https://www.raiffeisen.ru/ https://www.rosneft.ru/ https://lukoil.ru/ https://www.x5.ru/ru/ https://www.gazprom.ru/ https://www.gkm.ru/ https://www.tatneft.ru/ https://moskva.mts.ru/personal https://www.tplusgroup.ru/ https://www.evraz.com/ru/ https://www.eurochem.ru/\n"
     ]
    },
    {
     "name": "stdout",
     "output_type": "stream",
     "text": [
      "https://www.vtb.ru/ : 403\n",
      "https://www.gazprombank.ru/ : 0\n",
      "https://www.rosneft.ru/ : 403\n",
      "https://lukoil.ru/ : 502\n",
      "https://www.gkm.ru/ : 0\n",
      "https://www.tatneft.ru/ : 0\n",
      "https://www.tplusgroup.ru/ : 403\n"
     ]
    }
   ],
   "source": [
    "links = input().split()\n",
    "responses = []\n",
    "selenium = []\n",
    "status = 0\n",
    "for link in links:\n",
    "    try:\n",
    "        page = requests.get(link)\n",
    "        status = page.status_code\n",
    "    except:\n",
    "        pass\n",
    "    if status == 200:\n",
    "        page.encoding = 'utf-8'\n",
    "        responses.append((link, page.text))\n",
    "    else:\n",
    "        page.encoding = 'utf-8'\n",
    "        selenium.append(link)\n",
    "        print(link, status, sep=' : ')\n",
    "    status = 0"
   ]
  },
  {
   "cell_type": "code",
   "execution_count": 59,
   "id": "3e781492-4428-45fc-af18-c96dd328ecde",
   "metadata": {},
   "outputs": [
    {
     "name": "stdout",
     "output_type": "stream",
     "text": [
      "https://www.vtb.ru/  :  200\n",
      "https://www.gazprombank.ru/  :  200\n",
      "https://www.rosneft.ru/  :  200\n",
      "https://lukoil.ru/  :  None\n",
      "https://www.gkm.ru/  :  200\n",
      "https://www.tatneft.ru/  :  200\n",
      "https://www.tplusgroup.ru/  :  200\n"
     ]
    }
   ],
   "source": [
    "for link in selenium:\n",
    "    driver.get(link)\n",
    "    logs = driver.get_log('performance')\n",
    "    print(link,' : ',get_status(logs))"
   ]
  },
  {
   "cell_type": "code",
   "execution_count": 208,
   "id": "87bf39c9-80f4-45fc-a0da-454e0544ddd5",
   "metadata": {},
   "outputs": [],
   "source": [
    "soup = BeautifulSoup(page.text,'html.parser')"
   ]
  }
 ],
 "metadata": {
  "kernelspec": {
   "display_name": "Python 3 (ipykernel)",
   "language": "python",
   "name": "python3"
  },
  "language_info": {
   "codemirror_mode": {
    "name": "ipython",
    "version": 3
   },
   "file_extension": ".py",
   "mimetype": "text/x-python",
   "name": "python",
   "nbconvert_exporter": "python",
   "pygments_lexer": "ipython3",
   "version": "3.10.12"
  }
 },
 "nbformat": 4,
 "nbformat_minor": 5
}
