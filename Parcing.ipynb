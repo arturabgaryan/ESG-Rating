{
 "cells": [
  {
   "cell_type": "code",
   "execution_count": 1,
   "id": "97ebe056-6a72-4576-b586-78c332c63caf",
   "metadata": {},
   "outputs": [
    {
     "name": "stdout",
     "output_type": "stream",
     "text": [
      "Defaulting to user installation because normal site-packages is not writeable\n",
      "Requirement already satisfied: openpyxl in /home/artur/.local/lib/python3.10/site-packages (3.1.2)\n",
      "Requirement already satisfied: et-xmlfile in /home/artur/.local/lib/python3.10/site-packages (from openpyxl) (1.1.0)\n",
      "\u001b[33mDEPRECATION: python-debian 0.1.43ubuntu1 has a non-standard version number. pip 24.1 will enforce this behaviour change. A possible replacement is to upgrade to a newer version of python-debian or contact the author to suggest that they release a version with a conforming version number. Discussion can be found at https://github.com/pypa/pip/issues/12063\u001b[0m\u001b[33m\n",
      "\u001b[0m"
     ]
    },
    {
     "name": "stderr",
     "output_type": "stream",
     "text": [
      "/tmp/ipykernel_42210/3575917780.py:15: DeprecationWarning: \n",
      "Pyarrow will become a required dependency of pandas in the next major release of pandas (pandas 3.0),\n",
      "(to allow more performant data types, such as the Arrow string type, and better interoperability with other libraries)\n",
      "but was not found to be installed on your system.\n",
      "If this would cause problems for you,\n",
      "please provide us feedback at https://github.com/pandas-dev/pandas/issues/54466\n",
      "        \n",
      "  import pandas as pd\n"
     ]
    }
   ],
   "source": [
    "!pip install openpyxl\n",
    "# !echo Artur119289 | sudo -S pip3 install --user --upgrade pandas\n",
    "import requests\n",
    "from bs4 import BeautifulSoup\n",
    "from selenium import webdriver\n",
    "from selenium.webdriver.common.keys import Keys\n",
    "import json\n",
    "import os\n",
    "import re\n",
    "import urllib3\n",
    "import urllib.parse\n",
    "from urllib.request import urlopen\n",
    "from urllib.parse import urlparse\n",
    "import numpy as np\n",
    "import pandas as pd\n",
    "import progressbar\n",
    "import time\n",
    "from requests.auth import HTTPBasicAuth"
   ]
  },
  {
   "cell_type": "code",
   "execution_count": 2,
   "id": "abebd0f1-d424-4ce2-adc2-fd9609b36723",
   "metadata": {},
   "outputs": [],
   "source": [
    "def get_status(logs):\n",
    "    for log in logs:\n",
    "        if log['message']:\n",
    "            d = json.loads(log['message'])\n",
    "            try:\n",
    "                content_type = 'text/html' in d['message']['params']['response']['headers']['content-type']\n",
    "                response_received = d['message']['method'] == 'Network.responseReceived'\n",
    "                if content_type and response_received:\n",
    "                    return d['message']['params']['response']['status']\n",
    "            except:\n",
    "                pass\n",
    "\n",
    "def preprocess(line):\n",
    "    return ' '.join(line.replace('\\r',' ').replace('\\xa0',' ').replace('\\xad', ' ').strip().split())\n",
    "\n",
    "def get_text(soup):\n",
    "    text = []\n",
    "    for script in soup([\"script\", \"style\",\"footer\",\"input\",'link','meta','button']):\n",
    "        script.extract()\n",
    "\n",
    "    paragraph = '\\n'.join(list(dict.fromkeys([text for text in soup.stripped_strings])))\n",
    "    return paragraph\n",
    "\n",
    "\n",
    "def get_all_links(url,link_hierarchy,soup):\n",
    "    child_links = []\n",
    "    for script in soup([\"script\", \"style\"]):\n",
    "        script.extract()\n",
    "    \n",
    "    sublinks = [a.get('href') for a in soup.find_all('a') if a.get('href') and a.get('href').startswith('/')]\n",
    "    \n",
    "    sublinks = [link[1:] for link in sublinks]\n",
    "    sublinks = [*set(sublinks)]\n",
    "    sublinks = list(filter(None, sublinks))\n",
    "    \n",
    "    for link in sublinks:\n",
    "        if \".pdf\" not in link or \".PDF\" not in link:\n",
    "            if 'www' in link:\n",
    "                new_url = os.path.join(url[:url.rfind('www')], urlparse(url).netloc, link)\n",
    "            else:\n",
    "                new_url = os.path.join(url[:url.rfind('//')+2], urlparse(url).netloc, link)\n",
    "            child_links.append(new_url)\n",
    "    \n",
    "    link_hierarchy[url] = child_links\n",
    "    return\n",
    "\n",
    "def get_responce(links):\n",
    "    responses = []\n",
    "    selenium = []\n",
    "    status = 0\n",
    "    page = ''\n",
    "    header = {\n",
    "  'accept':'text/html,application/xhtml+xml,application/xml;q=0.9,image/webp,image/apng,*/*;q=0.8,application/signed-exchange;v=b3',\n",
    "  'accept-encoding':'gzip, deflate, br',\n",
    "  'accept-language':'ru-RU,ru;q=0.9,en-US;q=0.8,en;q=0.7',\n",
    "  'cache-control':'no-cache',\n",
    "  'dnt': '1',\n",
    "  'pragma': 'no-cache',\n",
    "  'sec-fetch-mode': 'navigate',\n",
    "  'sec-fetch-site': 'none',\n",
    "  'sec-fetch-user': '?1',\n",
    "  'upgrade-insecure-requests': '1',\n",
    "  'user-agent': 'Mozilla/5.0 (Windows NT 6.1; Win64; x64) AppleWebKit/537.36 (KHTML, like Gecko) Chrome/76.0.3809.100 Safari/537.36'\n",
    "    }\n",
    "    for link in links:\n",
    "        try:\n",
    "            page = requests.get(link,headers=header,auth=HTTPBasicAuth('user', 'pass'),verify=False)\n",
    "            status = page.status_code\n",
    "        except:\n",
    "            print('Cannot reach website')\n",
    "        if status == 401:    \n",
    "            print(link, status, sep=' : ')\n",
    "        if status == 200:\n",
    "            page.encoding = 'utf-8'\n",
    "            responses.append((link, page.text))\n",
    "            print(link, status, sep=' : ')\n",
    "        \n",
    "        else:\n",
    "            page.encoding = 'utf-8'\n",
    "            selenium.append(link)\n",
    "            print(link, status, sep=' : ')\n",
    "        status = 0"
   ]
  },
  {
   "cell_type": "code",
   "execution_count": 6,
   "id": "460f4ff9-cca9-48e9-9599-28f093e978be",
   "metadata": {},
   "outputs": [],
   "source": [
    "chrome_options = webdriver.ChromeOptions()\n",
    "chrome_options.add_argument('--headless')\n",
    "chrome_options.add_argument('--no-sandbox')\n",
    "chrome_options.add_argument('--disable-dev-shm-usage')\n",
    "chrome_options.add_argument('--disable-blink-features=AutomationControlled')\n",
    "chrome_options.set_capability('goog:loggingPrefs', {'performance': 'ALL'})\n",
    "driver = webdriver.Chrome(options = chrome_options)"
   ]
  },
  {
   "cell_type": "code",
   "execution_count": 8,
   "id": "0cec96b6-50f9-4586-bb9a-de218a49eeef",
   "metadata": {},
   "outputs": [],
   "source": [
    "DataSet = pd.read_csv('PreprocessedESG.csv')"
   ]
  },
  {
   "cell_type": "code",
   "execution_count": 10,
   "id": "db09367b-e1d0-46f9-b20f-0618cc6b81b3",
   "metadata": {},
   "outputs": [],
   "source": [
    "DataSet = DataSet.drop(['Unnamed: 0','Unnamed: 15'],axis=1)"
   ]
  },
  {
   "cell_type": "code",
   "execution_count": 11,
   "id": "bd42baba-e0b0-45ba-ad44-a1531cb2c8b9",
   "metadata": {},
   "outputs": [
    {
     "data": {
      "text/html": [
       "<div>\n",
       "<style scoped>\n",
       "    .dataframe tbody tr th:only-of-type {\n",
       "        vertical-align: middle;\n",
       "    }\n",
       "\n",
       "    .dataframe tbody tr th {\n",
       "        vertical-align: top;\n",
       "    }\n",
       "\n",
       "    .dataframe thead th {\n",
       "        text-align: right;\n",
       "    }\n",
       "</style>\n",
       "<table border=\"1\" class=\"dataframe\">\n",
       "  <thead>\n",
       "    <tr style=\"text-align: right;\">\n",
       "      <th></th>\n",
       "      <th>Бренд и Юрлицо (!)</th>\n",
       "      <th>Вебсайт</th>\n",
       "      <th>ИНН</th>\n",
       "      <th>Регион</th>\n",
       "      <th>Устойчивое развитие, Социальная отчетность, ESG</th>\n",
       "      <th>Экология</th>\n",
       "      <th>Забота о потребителях, защита прав потребителей</th>\n",
       "      <th>Забота о работниках, социальные программы</th>\n",
       "      <th>Поставщикам, Закупки</th>\n",
       "      <th>Корпоративное управление, совет директоров, высший менеджмент</th>\n",
       "      <th>Миссия, ценности</th>\n",
       "      <th>Этический кодекс</th>\n",
       "      <th>Антикоррупция</th>\n",
       "      <th>Раскрытие информации</th>\n",
       "      <th>Количесво ссылок</th>\n",
       "    </tr>\n",
       "  </thead>\n",
       "  <tbody>\n",
       "    <tr>\n",
       "      <th>0</th>\n",
       "      <td>Адмиралтейские верфи</td>\n",
       "      <td>http://admship.ru/</td>\n",
       "      <td>7839395419</td>\n",
       "      <td>СЗФО</td>\n",
       "      <td>NaN</td>\n",
       "      <td>нет</td>\n",
       "      <td>нет</td>\n",
       "      <td>http://admship.ru/job/</td>\n",
       "      <td>http://admship.ru/purchase/</td>\n",
       "      <td>нет</td>\n",
       "      <td>http://admship.ru/about/corruption/</td>\n",
       "      <td>нет</td>\n",
       "      <td>http://admship.ru/about/corruption/</td>\n",
       "      <td>http://admship.ru/about/disclosure/</td>\n",
       "      <td>5.0</td>\n",
       "    </tr>\n",
       "    <tr>\n",
       "      <th>1</th>\n",
       "      <td>Алмаз-Антей</td>\n",
       "      <td>http://www.almaz-antey.ru/</td>\n",
       "      <td>7731084175</td>\n",
       "      <td>СЗФО</td>\n",
       "      <td>NaN</td>\n",
       "      <td>нет</td>\n",
       "      <td>нет</td>\n",
       "      <td>http://www.almaz-antey.ru/kadrovaya-i-sotsialn...</td>\n",
       "      <td>http://www.almaz-antey.ru/zakupochnaya-deyatel...</td>\n",
       "      <td>http://www.almaz-antey.ru/istoriya/</td>\n",
       "      <td>http://www.almaz-antey.ru/strategiya/</td>\n",
       "      <td>http://www.almaz-antey.ru/upload/corruption/%D...</td>\n",
       "      <td>http://www.almaz-antey.ru/anti-corruption/</td>\n",
       "      <td>нет</td>\n",
       "      <td>7.0</td>\n",
       "    </tr>\n",
       "    <tr>\n",
       "      <th>2</th>\n",
       "      <td>Армалит</td>\n",
       "      <td>https://armalit.ru/</td>\n",
       "      <td>7805148130</td>\n",
       "      <td>СЗФО</td>\n",
       "      <td>NaN</td>\n",
       "      <td>нет</td>\n",
       "      <td>нет</td>\n",
       "      <td>https://armalit.ru/about/training-center/</td>\n",
       "      <td>нет</td>\n",
       "      <td>https://armalit.ru/about/management/</td>\n",
       "      <td>нет</td>\n",
       "      <td>нет</td>\n",
       "      <td>нет</td>\n",
       "      <td>https://armalit.ru/information-disclosure/</td>\n",
       "      <td>3.0</td>\n",
       "    </tr>\n",
       "    <tr>\n",
       "      <th>3</th>\n",
       "      <td>Аттика</td>\n",
       "      <td>https://attikarus.ru/</td>\n",
       "      <td>7806521932</td>\n",
       "      <td>СЗФО</td>\n",
       "      <td>NaN</td>\n",
       "      <td>нет</td>\n",
       "      <td>нет</td>\n",
       "      <td>нет</td>\n",
       "      <td>https://attikarus.ru/about/suppliers/</td>\n",
       "      <td>https://attikarus.ru/about/team/</td>\n",
       "      <td>https://attikarus.ru/about/history/</td>\n",
       "      <td>нет</td>\n",
       "      <td>https://attikarus.ru/anti-corruption-policy/</td>\n",
       "      <td>нет</td>\n",
       "      <td>5.0</td>\n",
       "    </tr>\n",
       "    <tr>\n",
       "      <th>4</th>\n",
       "      <td>Балтийский завод</td>\n",
       "      <td>https://www.bz.ru/</td>\n",
       "      <td>7830001910</td>\n",
       "      <td>СЗФО</td>\n",
       "      <td>NaN</td>\n",
       "      <td>нет</td>\n",
       "      <td>нет</td>\n",
       "      <td>https://www.bz.ru/career/social-policy/</td>\n",
       "      <td>https://www.bz.ru/partners/purchases/</td>\n",
       "      <td>https://www.bz.ru/about/ceo/</td>\n",
       "      <td>нет</td>\n",
       "      <td>нет</td>\n",
       "      <td>https://www.bz.ru/protivodeystvie-korruptsii/</td>\n",
       "      <td>https://www.bz.ru/partners/disclosure-of-infor...</td>\n",
       "      <td>5.0</td>\n",
       "    </tr>\n",
       "    <tr>\n",
       "      <th>...</th>\n",
       "      <td>...</td>\n",
       "      <td>...</td>\n",
       "      <td>...</td>\n",
       "      <td>...</td>\n",
       "      <td>...</td>\n",
       "      <td>...</td>\n",
       "      <td>...</td>\n",
       "      <td>...</td>\n",
       "      <td>...</td>\n",
       "      <td>...</td>\n",
       "      <td>...</td>\n",
       "      <td>...</td>\n",
       "      <td>...</td>\n",
       "      <td>...</td>\n",
       "      <td>...</td>\n",
       "    </tr>\n",
       "    <tr>\n",
       "      <th>305</th>\n",
       "      <td>«Эфирное»</td>\n",
       "      <td>https://www.efko.ru</td>\n",
       "      <td>NaN</td>\n",
       "      <td>RAEX</td>\n",
       "      <td>NaN</td>\n",
       "      <td>NaN</td>\n",
       "      <td>NaN</td>\n",
       "      <td>NaN</td>\n",
       "      <td>NaN</td>\n",
       "      <td>NaN</td>\n",
       "      <td>https://www.efko.ru/about/#mission</td>\n",
       "      <td>NaN</td>\n",
       "      <td>NaN</td>\n",
       "      <td>NaN</td>\n",
       "      <td>NaN</td>\n",
       "    </tr>\n",
       "    <tr>\n",
       "      <th>306</th>\n",
       "      <td>«Торговая компания «Мираторг»</td>\n",
       "      <td>http://www.miratorg.ru/</td>\n",
       "      <td>NaN</td>\n",
       "      <td>RAEX</td>\n",
       "      <td>https://miratorg.ru/about/sustainable_developm...</td>\n",
       "      <td>NaN</td>\n",
       "      <td>NaN</td>\n",
       "      <td>NaN</td>\n",
       "      <td>NaN</td>\n",
       "      <td>https://miratorg.ru/about/directors/</td>\n",
       "      <td>NaN</td>\n",
       "      <td>NaN</td>\n",
       "      <td>NaN</td>\n",
       "      <td>NaN</td>\n",
       "      <td>NaN</td>\n",
       "    </tr>\n",
       "    <tr>\n",
       "      <th>307</th>\n",
       "      <td>РОСВОДОКАНАЛ</td>\n",
       "      <td>http://www.rosvodokanal.ru/</td>\n",
       "      <td>NaN</td>\n",
       "      <td>RAEX</td>\n",
       "      <td>https://www.rosvodokanal.ru/ustoychivoe-razvit...</td>\n",
       "      <td>NaN</td>\n",
       "      <td>NaN</td>\n",
       "      <td>NaN</td>\n",
       "      <td>NaN</td>\n",
       "      <td>https://www.rosvodokanal.ru/about/rukovodstvo/</td>\n",
       "      <td>https://www.rosvodokanal.ru/about/missiya/</td>\n",
       "      <td>NaN</td>\n",
       "      <td>NaN</td>\n",
       "      <td>NaN</td>\n",
       "      <td>NaN</td>\n",
       "    </tr>\n",
       "    <tr>\n",
       "      <th>308</th>\n",
       "      <td>«Мосводоканал»</td>\n",
       "      <td>http://www.mosvodokanal.ru/</td>\n",
       "      <td>NaN</td>\n",
       "      <td>RAEX</td>\n",
       "      <td>https://www.mosvodokanal.ru/about/evolution/ec...</td>\n",
       "      <td>NaN</td>\n",
       "      <td>NaN</td>\n",
       "      <td>NaN</td>\n",
       "      <td>NaN</td>\n",
       "      <td>https://www.mosvodokanal.ru/about/leadership/</td>\n",
       "      <td>NaN</td>\n",
       "      <td>NaN</td>\n",
       "      <td>https://www.mosvodokanal.ru/about/anti-corrupt...</td>\n",
       "      <td>NaN</td>\n",
       "      <td>NaN</td>\n",
       "    </tr>\n",
       "    <tr>\n",
       "      <th>309</th>\n",
       "      <td>Водоканал СПб</td>\n",
       "      <td>NaN</td>\n",
       "      <td>NaN</td>\n",
       "      <td>NaN</td>\n",
       "      <td>NaN</td>\n",
       "      <td>NaN</td>\n",
       "      <td>NaN</td>\n",
       "      <td>NaN</td>\n",
       "      <td>NaN</td>\n",
       "      <td>NaN</td>\n",
       "      <td>NaN</td>\n",
       "      <td>NaN</td>\n",
       "      <td>NaN</td>\n",
       "      <td>NaN</td>\n",
       "      <td>NaN</td>\n",
       "    </tr>\n",
       "  </tbody>\n",
       "</table>\n",
       "<p>310 rows × 15 columns</p>\n",
       "</div>"
      ],
      "text/plain": [
       "                Бренд и Юрлицо (!)                      Вебсайт         ИНН  \\\n",
       "0             Адмиралтейские верфи           http://admship.ru/  7839395419   \n",
       "1                      Алмаз-Антей   http://www.almaz-antey.ru/  7731084175   \n",
       "2                          Армалит          https://armalit.ru/  7805148130   \n",
       "3                          Аттика        https://attikarus.ru/   7806521932   \n",
       "4                 Балтийский завод           https://www.bz.ru/  7830001910   \n",
       "..                             ...                          ...         ...   \n",
       "305                      «Эфирное»          https://www.efko.ru         NaN   \n",
       "306  «Торговая компания «Мираторг»      http://www.miratorg.ru/         NaN   \n",
       "307                   РОСВОДОКАНАЛ  http://www.rosvodokanal.ru/         NaN   \n",
       "308                 «Мосводоканал»  http://www.mosvodokanal.ru/         NaN   \n",
       "309                  Водоканал СПб                          NaN         NaN   \n",
       "\n",
       "    Регион    Устойчивое развитие, Социальная отчетность, ESG Экология  \\\n",
       "0     СЗФО                                                NaN      нет   \n",
       "1     СЗФО                                                NaN      нет   \n",
       "2     СЗФО                                                NaN      нет   \n",
       "3     СЗФО                                                NaN      нет   \n",
       "4     СЗФО                                                NaN      нет   \n",
       "..     ...                                                ...      ...   \n",
       "305   RAEX                                                NaN      NaN   \n",
       "306   RAEX  https://miratorg.ru/about/sustainable_developm...      NaN   \n",
       "307   RAEX  https://www.rosvodokanal.ru/ustoychivoe-razvit...      NaN   \n",
       "308   RAEX  https://www.mosvodokanal.ru/about/evolution/ec...      NaN   \n",
       "309    NaN                                                NaN      NaN   \n",
       "\n",
       "    Забота о потребителях, защита прав потребителей   \\\n",
       "0                                                нет   \n",
       "1                                                нет   \n",
       "2                                                нет   \n",
       "3                                                нет   \n",
       "4                                                нет   \n",
       "..                                               ...   \n",
       "305                                              NaN   \n",
       "306                                              NaN   \n",
       "307                                              NaN   \n",
       "308                                              NaN   \n",
       "309                                              NaN   \n",
       "\n",
       "             Забота о работниках, социальные программы  \\\n",
       "0                               http://admship.ru/job/   \n",
       "1    http://www.almaz-antey.ru/kadrovaya-i-sotsialn...   \n",
       "2            https://armalit.ru/about/training-center/   \n",
       "3                                                  нет   \n",
       "4              https://www.bz.ru/career/social-policy/   \n",
       "..                                                 ...   \n",
       "305                                                NaN   \n",
       "306                                                NaN   \n",
       "307                                                NaN   \n",
       "308                                                NaN   \n",
       "309                                                NaN   \n",
       "\n",
       "                                  Поставщикам, Закупки  \\\n",
       "0                          http://admship.ru/purchase/   \n",
       "1    http://www.almaz-antey.ru/zakupochnaya-deyatel...   \n",
       "2                                                  нет   \n",
       "3                https://attikarus.ru/about/suppliers/   \n",
       "4                https://www.bz.ru/partners/purchases/   \n",
       "..                                                 ...   \n",
       "305                                                NaN   \n",
       "306                                                NaN   \n",
       "307                                                NaN   \n",
       "308                                                NaN   \n",
       "309                                                NaN   \n",
       "\n",
       "    Корпоративное управление, совет директоров, высший менеджмент  \\\n",
       "0                                                  нет              \n",
       "1                  http://www.almaz-antey.ru/istoriya/              \n",
       "2                 https://armalit.ru/about/management/              \n",
       "3                     https://attikarus.ru/about/team/              \n",
       "4                         https://www.bz.ru/about/ceo/              \n",
       "..                                                 ...              \n",
       "305                                                NaN              \n",
       "306               https://miratorg.ru/about/directors/              \n",
       "307     https://www.rosvodokanal.ru/about/rukovodstvo/              \n",
       "308      https://www.mosvodokanal.ru/about/leadership/              \n",
       "309                                                NaN              \n",
       "\n",
       "                               Миссия, ценности  \\\n",
       "0           http://admship.ru/about/corruption/   \n",
       "1         http://www.almaz-antey.ru/strategiya/   \n",
       "2                                           нет   \n",
       "3           https://attikarus.ru/about/history/   \n",
       "4                                           нет   \n",
       "..                                          ...   \n",
       "305          https://www.efko.ru/about/#mission   \n",
       "306                                         NaN   \n",
       "307  https://www.rosvodokanal.ru/about/missiya/   \n",
       "308                                         NaN   \n",
       "309                                         NaN   \n",
       "\n",
       "                                      Этический кодекс  \\\n",
       "0                                                  нет   \n",
       "1    http://www.almaz-antey.ru/upload/corruption/%D...   \n",
       "2                                                  нет   \n",
       "3                                                  нет   \n",
       "4                                                  нет   \n",
       "..                                                 ...   \n",
       "305                                                NaN   \n",
       "306                                                NaN   \n",
       "307                                                NaN   \n",
       "308                                                NaN   \n",
       "309                                                NaN   \n",
       "\n",
       "                                         Антикоррупция  \\\n",
       "0                  http://admship.ru/about/corruption/   \n",
       "1           http://www.almaz-antey.ru/anti-corruption/   \n",
       "2                                                  нет   \n",
       "3         https://attikarus.ru/anti-corruption-policy/   \n",
       "4        https://www.bz.ru/protivodeystvie-korruptsii/   \n",
       "..                                                 ...   \n",
       "305                                                NaN   \n",
       "306                                                NaN   \n",
       "307                                                NaN   \n",
       "308  https://www.mosvodokanal.ru/about/anti-corrupt...   \n",
       "309                                                NaN   \n",
       "\n",
       "                                  Раскрытие информации  Количесво ссылок  \n",
       "0                  http://admship.ru/about/disclosure/               5.0  \n",
       "1                                                  нет               7.0  \n",
       "2           https://armalit.ru/information-disclosure/               3.0  \n",
       "3                                                  нет               5.0  \n",
       "4    https://www.bz.ru/partners/disclosure-of-infor...               5.0  \n",
       "..                                                 ...               ...  \n",
       "305                                                NaN               NaN  \n",
       "306                                                NaN               NaN  \n",
       "307                                                NaN               NaN  \n",
       "308                                                NaN               NaN  \n",
       "309                                                NaN               NaN  \n",
       "\n",
       "[310 rows x 15 columns]"
      ]
     },
     "execution_count": 11,
     "metadata": {},
     "output_type": "execute_result"
    }
   ],
   "source": [
    "DataSet"
   ]
  },
  {
   "cell_type": "code",
   "execution_count": 12,
   "id": "ac27855c-8877-48a0-a0e7-6e3bc77b28a9",
   "metadata": {},
   "outputs": [
    {
     "ename": "KeyError",
     "evalue": "'Вебсайт'",
     "output_type": "error",
     "traceback": [
      "\u001b[0;31m---------------------------------------------------------------------------\u001b[0m",
      "\u001b[0;31mKeyError\u001b[0m                                  Traceback (most recent call last)",
      "File \u001b[0;32m/usr/local/lib/python3.10/dist-packages/pandas/core/indexes/base.py:3802\u001b[0m, in \u001b[0;36mIndex.get_loc\u001b[0;34m(self, key)\u001b[0m\n\u001b[1;32m   3801\u001b[0m \u001b[38;5;28;01mtry\u001b[39;00m:\n\u001b[0;32m-> 3802\u001b[0m     \u001b[38;5;28;01mreturn\u001b[39;00m \u001b[38;5;28;43mself\u001b[39;49m\u001b[38;5;241;43m.\u001b[39;49m\u001b[43m_engine\u001b[49m\u001b[38;5;241;43m.\u001b[39;49m\u001b[43mget_loc\u001b[49m\u001b[43m(\u001b[49m\u001b[43mcasted_key\u001b[49m\u001b[43m)\u001b[49m\n\u001b[1;32m   3803\u001b[0m \u001b[38;5;28;01mexcept\u001b[39;00m \u001b[38;5;167;01mKeyError\u001b[39;00m \u001b[38;5;28;01mas\u001b[39;00m err:\n",
      "File \u001b[0;32mindex.pyx:153\u001b[0m, in \u001b[0;36mpandas._libs.index.IndexEngine.get_loc\u001b[0;34m()\u001b[0m\n",
      "File \u001b[0;32mindex.pyx:182\u001b[0m, in \u001b[0;36mpandas._libs.index.IndexEngine.get_loc\u001b[0;34m()\u001b[0m\n",
      "File \u001b[0;32mpandas/_libs/hashtable_class_helper.pxi:7081\u001b[0m, in \u001b[0;36mpandas._libs.hashtable.PyObjectHashTable.get_item\u001b[0;34m()\u001b[0m\n",
      "File \u001b[0;32mpandas/_libs/hashtable_class_helper.pxi:7089\u001b[0m, in \u001b[0;36mpandas._libs.hashtable.PyObjectHashTable.get_item\u001b[0;34m()\u001b[0m\n",
      "\u001b[0;31mKeyError\u001b[0m: 'Вебсайт'",
      "\nThe above exception was the direct cause of the following exception:\n",
      "\u001b[0;31mKeyError\u001b[0m                                  Traceback (most recent call last)",
      "Cell \u001b[0;32mIn[12], line 1\u001b[0m\n\u001b[0;32m----> 1\u001b[0m get_responce(\u001b[38;5;28mlist\u001b[39m(\u001b[43mDataSet\u001b[49m\u001b[43m[\u001b[49m\u001b[38;5;124;43m'\u001b[39;49m\u001b[38;5;124;43mВебсайт\u001b[39;49m\u001b[38;5;124;43m'\u001b[39;49m\u001b[43m]\u001b[49m\u001b[38;5;241m.\u001b[39mvalues))\n",
      "File \u001b[0;32m/usr/local/lib/python3.10/dist-packages/pandas/core/frame.py:4090\u001b[0m, in \u001b[0;36mDataFrame.__getitem__\u001b[0;34m(self, key)\u001b[0m\n\u001b[1;32m   4088\u001b[0m \u001b[38;5;28;01mif\u001b[39;00m \u001b[38;5;28mself\u001b[39m\u001b[38;5;241m.\u001b[39mcolumns\u001b[38;5;241m.\u001b[39mnlevels \u001b[38;5;241m>\u001b[39m \u001b[38;5;241m1\u001b[39m:\n\u001b[1;32m   4089\u001b[0m     \u001b[38;5;28;01mreturn\u001b[39;00m \u001b[38;5;28mself\u001b[39m\u001b[38;5;241m.\u001b[39m_getitem_multilevel(key)\n\u001b[0;32m-> 4090\u001b[0m indexer \u001b[38;5;241m=\u001b[39m \u001b[38;5;28;43mself\u001b[39;49m\u001b[38;5;241;43m.\u001b[39;49m\u001b[43mcolumns\u001b[49m\u001b[38;5;241;43m.\u001b[39;49m\u001b[43mget_loc\u001b[49m\u001b[43m(\u001b[49m\u001b[43mkey\u001b[49m\u001b[43m)\u001b[49m\n\u001b[1;32m   4091\u001b[0m \u001b[38;5;28;01mif\u001b[39;00m is_integer(indexer):\n\u001b[1;32m   4092\u001b[0m     indexer \u001b[38;5;241m=\u001b[39m [indexer]\n",
      "File \u001b[0;32m/usr/local/lib/python3.10/dist-packages/pandas/core/indexes/base.py:3809\u001b[0m, in \u001b[0;36mIndex.get_loc\u001b[0;34m(self, key)\u001b[0m\n\u001b[1;32m   3804\u001b[0m     \u001b[38;5;28;01mif\u001b[39;00m \u001b[38;5;28misinstance\u001b[39m(casted_key, \u001b[38;5;28mslice\u001b[39m) \u001b[38;5;129;01mor\u001b[39;00m (\n\u001b[1;32m   3805\u001b[0m         \u001b[38;5;28misinstance\u001b[39m(casted_key, abc\u001b[38;5;241m.\u001b[39mIterable)\n\u001b[1;32m   3806\u001b[0m         \u001b[38;5;129;01mand\u001b[39;00m \u001b[38;5;28many\u001b[39m(\u001b[38;5;28misinstance\u001b[39m(x, \u001b[38;5;28mslice\u001b[39m) \u001b[38;5;28;01mfor\u001b[39;00m x \u001b[38;5;129;01min\u001b[39;00m casted_key)\n\u001b[1;32m   3807\u001b[0m     ):\n\u001b[1;32m   3808\u001b[0m         \u001b[38;5;28;01mraise\u001b[39;00m InvalidIndexError(key)\n\u001b[0;32m-> 3809\u001b[0m     \u001b[38;5;28;01mraise\u001b[39;00m \u001b[38;5;167;01mKeyError\u001b[39;00m(key) \u001b[38;5;28;01mfrom\u001b[39;00m \u001b[38;5;21;01merr\u001b[39;00m\n\u001b[1;32m   3810\u001b[0m \u001b[38;5;28;01mexcept\u001b[39;00m \u001b[38;5;167;01mTypeError\u001b[39;00m:\n\u001b[1;32m   3811\u001b[0m     \u001b[38;5;66;03m# If we have a listlike key, _check_indexing_error will raise\u001b[39;00m\n\u001b[1;32m   3812\u001b[0m     \u001b[38;5;66;03m#  InvalidIndexError. Otherwise we fall through and re-raise\u001b[39;00m\n\u001b[1;32m   3813\u001b[0m     \u001b[38;5;66;03m#  the TypeError.\u001b[39;00m\n\u001b[1;32m   3814\u001b[0m     \u001b[38;5;28mself\u001b[39m\u001b[38;5;241m.\u001b[39m_check_indexing_error(key)\n",
      "\u001b[0;31mKeyError\u001b[0m: 'Вебсайт'"
     ]
    }
   ],
   "source": [
    "get_responce(list(DataSet[' Вебсайт'].values))"
   ]
  },
  {
   "cell_type": "code",
   "execution_count": null,
   "id": "21fdd51b-68cf-4043-9152-e61aab420cd2",
   "metadata": {},
   "outputs": [
    {
     "name": "stdout",
     "output_type": "stream",
     "text": [
      "http://admship.ru/ : 200\n",
      "http://www.almaz-antey.ru/ : 200\n"
     ]
    },
    {
     "name": "stderr",
     "output_type": "stream",
     "text": [
      "/usr/lib/python3/dist-packages/urllib3/connectionpool.py:1015: InsecureRequestWarning: Unverified HTTPS request is being made to host 'armalit.ru'. Adding certificate verification is strongly advised. See: https://urllib3.readthedocs.io/en/latest/advanced-usage.html#ssl-warnings\n",
      "  warnings.warn(\n"
     ]
    },
    {
     "name": "stdout",
     "output_type": "stream",
     "text": [
      "Cannot reach website\n",
      "https://armalit.ru/ : 0\n"
     ]
    },
    {
     "name": "stderr",
     "output_type": "stream",
     "text": [
      "/usr/lib/python3/dist-packages/urllib3/connectionpool.py:1015: InsecureRequestWarning: Unverified HTTPS request is being made to host 'attikarus.ru'. Adding certificate verification is strongly advised. See: https://urllib3.readthedocs.io/en/latest/advanced-usage.html#ssl-warnings\n",
      "  warnings.warn(\n"
     ]
    },
    {
     "name": "stdout",
     "output_type": "stream",
     "text": [
      "https://attikarus.ru/  : 404\n",
      "https://www.bz.ru/ : 200\n"
     ]
    },
    {
     "name": "stderr",
     "output_type": "stream",
     "text": [
      "/usr/lib/python3/dist-packages/urllib3/connectionpool.py:1015: InsecureRequestWarning: Unverified HTTPS request is being made to host 'www.bz.ru'. Adding certificate verification is strongly advised. See: https://urllib3.readthedocs.io/en/latest/advanced-usage.html#ssl-warnings\n",
      "  warnings.warn(\n",
      "/usr/lib/python3/dist-packages/urllib3/connectionpool.py:1015: InsecureRequestWarning: Unverified HTTPS request is being made to host 'www.bronkagroup.ru'. Adding certificate verification is strongly advised. See: https://urllib3.readthedocs.io/en/latest/advanced-usage.html#ssl-warnings\n",
      "  warnings.warn(\n"
     ]
    },
    {
     "name": "stdout",
     "output_type": "stream",
     "text": [
      "https://www.bronkagroup.ru/ : 200\n",
      "https://werker.ru/ : 200\n"
     ]
    },
    {
     "name": "stderr",
     "output_type": "stream",
     "text": [
      "/usr/lib/python3/dist-packages/urllib3/connectionpool.py:1015: InsecureRequestWarning: Unverified HTTPS request is being made to host 'werker.ru'. Adding certificate verification is strongly advised. See: https://urllib3.readthedocs.io/en/latest/advanced-usage.html#ssl-warnings\n",
      "  warnings.warn(\n",
      "/usr/lib/python3/dist-packages/urllib3/connectionpool.py:1015: InsecureRequestWarning: Unverified HTTPS request is being made to host 'www.gidropribor.ru'. Adding certificate verification is strongly advised. See: https://urllib3.readthedocs.io/en/latest/advanced-usage.html#ssl-warnings\n",
      "  warnings.warn(\n"
     ]
    },
    {
     "name": "stdout",
     "output_type": "stream",
     "text": [
      "https://www.gidropribor.ru/ : 200\n"
     ]
    },
    {
     "name": "stderr",
     "output_type": "stream",
     "text": [
      "/usr/lib/python3/dist-packages/urllib3/connectionpool.py:1015: InsecureRequestWarning: Unverified HTTPS request is being made to host 'www.granit-electron.ru'. Adding certificate verification is strongly advised. See: https://urllib3.readthedocs.io/en/latest/advanced-usage.html#ssl-warnings\n",
      "  warnings.warn(\n"
     ]
    },
    {
     "name": "stdout",
     "output_type": "stream",
     "text": [
      "https://www.granit-electron.ru/ : 200\n"
     ]
    },
    {
     "name": "stderr",
     "output_type": "stream",
     "text": [
      "/usr/lib/python3/dist-packages/urllib3/connectionpool.py:1015: InsecureRequestWarning: Unverified HTTPS request is being made to host 'www.izmeron.ru'. Adding certificate verification is strongly advised. See: https://urllib3.readthedocs.io/en/latest/advanced-usage.html#ssl-warnings\n",
      "  warnings.warn(\n",
      "/usr/lib/python3/dist-packages/urllib3/connectionpool.py:1015: InsecureRequestWarning: Unverified HTTPS request is being made to host 'www.ipm.ru'. Adding certificate verification is strongly advised. See: https://urllib3.readthedocs.io/en/latest/advanced-usage.html#ssl-warnings\n",
      "  warnings.warn(\n"
     ]
    },
    {
     "name": "stdout",
     "output_type": "stream",
     "text": [
      "https://www.izmeron.ru/ : 200\n",
      "https://www.ipm.ru/ : 200\n"
     ]
    },
    {
     "name": "stderr",
     "output_type": "stream",
     "text": [
      "/usr/lib/python3/dist-packages/urllib3/connectionpool.py:1015: InsecureRequestWarning: Unverified HTTPS request is being made to host 'kzgroup.ru'. Adding certificate verification is strongly advised. See: https://urllib3.readthedocs.io/en/latest/advanced-usage.html#ssl-warnings\n",
      "  warnings.warn(\n"
     ]
    },
    {
     "name": "stdout",
     "output_type": "stream",
     "text": [
      "https://kzgroup.ru/ : 200\n"
     ]
    },
    {
     "name": "stderr",
     "output_type": "stream",
     "text": [
      "/usr/lib/python3/dist-packages/urllib3/connectionpool.py:1015: InsecureRequestWarning: Unverified HTTPS request is being made to host 'aokmp.ru'. Adding certificate verification is strongly advised. See: https://urllib3.readthedocs.io/en/latest/advanced-usage.html#ssl-warnings\n",
      "  warnings.warn(\n"
     ]
    },
    {
     "name": "stdout",
     "output_type": "stream",
     "text": [
      "https://aokmp.ru/ : 200\n",
      "https://meteor.ru/ : 200\n"
     ]
    },
    {
     "name": "stderr",
     "output_type": "stream",
     "text": [
      "/usr/lib/python3/dist-packages/urllib3/connectionpool.py:1015: InsecureRequestWarning: Unverified HTTPS request is being made to host 'meteor.ru'. Adding certificate verification is strongly advised. See: https://urllib3.readthedocs.io/en/latest/advanced-usage.html#ssl-warnings\n",
      "  warnings.warn(\n",
      "/usr/lib/python3/dist-packages/urllib3/connectionpool.py:1015: InsecureRequestWarning: Unverified HTTPS request is being made to host 'www.sitronics.com'. Adding certificate verification is strongly advised. See: https://urllib3.readthedocs.io/en/latest/advanced-usage.html#ssl-warnings\n",
      "  warnings.warn(\n",
      "/usr/lib/python3/dist-packages/urllib3/connectionpool.py:1015: InsecureRequestWarning: Unverified HTTPS request is being made to host 't-pack.ru'. Adding certificate verification is strongly advised. See: https://urllib3.readthedocs.io/en/latest/advanced-usage.html#ssl-warnings\n",
      "  warnings.warn(\n"
     ]
    },
    {
     "name": "stdout",
     "output_type": "stream",
     "text": [
      "https://www.sitronics.com/ : 200\n",
      "https://t-pack.ru/ : 200\n"
     ]
    },
    {
     "name": "stderr",
     "output_type": "stream",
     "text": [
      "/usr/lib/python3/dist-packages/urllib3/connectionpool.py:1015: InsecureRequestWarning: Unverified HTTPS request is being made to host 'www.star.ru'. Adding certificate verification is strongly advised. See: https://urllib3.readthedocs.io/en/latest/advanced-usage.html#ssl-warnings\n",
      "  warnings.warn(\n"
     ]
    },
    {
     "name": "stdout",
     "output_type": "stream",
     "text": [
      "https://www.star.ru/ : 200\n",
      "http://www.elektropribor.spb.ru/ : 200\n",
      "Cannot reach website\n",
      "https://www.polyplastic.ru : 0\n"
     ]
    },
    {
     "name": "stderr",
     "output_type": "stream",
     "text": [
      "/usr/lib/python3/dist-packages/urllib3/connectionpool.py:1015: InsecureRequestWarning: Unverified HTTPS request is being made to host 'www.packaging-systems.ru'. Adding certificate verification is strongly advised. See: https://urllib3.readthedocs.io/en/latest/advanced-usage.html#ssl-warnings\n",
      "  warnings.warn(\n"
     ]
    },
    {
     "name": "stdout",
     "output_type": "stream",
     "text": [
      "https://www.packaging-systems.ru : 200\n",
      "Cannot reach website\n",
      "https://ecoprofchem.ru/ : 0\n",
      "Cannot reach website\n",
      "https://www.phosagro.ru : 0\n",
      "https://www.uralkali.com/ru/ : 200\n"
     ]
    },
    {
     "name": "stderr",
     "output_type": "stream",
     "text": [
      "/usr/lib/python3/dist-packages/urllib3/connectionpool.py:1015: InsecureRequestWarning: Unverified HTTPS request is being made to host 'www.uralkali.com'. Adding certificate verification is strongly advised. See: https://urllib3.readthedocs.io/en/latest/advanced-usage.html#ssl-warnings\n",
      "  warnings.warn(\n",
      "/usr/lib/python3/dist-packages/urllib3/connectionpool.py:1015: InsecureRequestWarning: Unverified HTTPS request is being made to host 'www.uralchem.ru'. Adding certificate verification is strongly advised. See: https://urllib3.readthedocs.io/en/latest/advanced-usage.html#ssl-warnings\n",
      "  warnings.warn(\n"
     ]
    },
    {
     "name": "stdout",
     "output_type": "stream",
     "text": [
      "Cannot reach website\n",
      "https://www.uralchem.ru : 0\n",
      "https://www.acron.ru : 200\n"
     ]
    },
    {
     "name": "stderr",
     "output_type": "stream",
     "text": [
      "/usr/lib/python3/dist-packages/urllib3/connectionpool.py:1015: InsecureRequestWarning: Unverified HTTPS request is being made to host 'www.acron.ru'. Adding certificate verification is strongly advised. See: https://urllib3.readthedocs.io/en/latest/advanced-usage.html#ssl-warnings\n",
      "  warnings.warn(\n",
      "/usr/lib/python3/dist-packages/urllib3/connectionpool.py:1015: InsecureRequestWarning: Unverified HTTPS request is being made to host 'www.eurochem.ru'. Adding certificate verification is strongly advised. See: https://urllib3.readthedocs.io/en/latest/advanced-usage.html#ssl-warnings\n",
      "  warnings.warn(\n"
     ]
    },
    {
     "name": "stdout",
     "output_type": "stream",
     "text": [
      "https://www.eurochem.ru : 200\n",
      "Cannot reach website\n",
      "https://www.toaz.ru : 0\n",
      "Cannot reach website\n",
      "https://avgust.com : 0\n"
     ]
    },
    {
     "name": "stderr",
     "output_type": "stream",
     "text": [
      "/usr/lib/python3/dist-packages/urllib3/connectionpool.py:1015: InsecureRequestWarning: Unverified HTTPS request is being made to host 'n-azot.ru'. Adding certificate verification is strongly advised. See: https://urllib3.readthedocs.io/en/latest/advanced-usage.html#ssl-warnings\n",
      "  warnings.warn(\n"
     ]
    },
    {
     "name": "stdout",
     "output_type": "stream",
     "text": [
      "http://n-azot.ru : 200\n",
      "Cannot reach website\n",
      "https://kao-azot.com : 0\n",
      "https://krata.ru : 200\n",
      "Cannot reach website\n",
      "https://www.kaustik.ru/ru/ : 0\n"
     ]
    },
    {
     "name": "stderr",
     "output_type": "stream",
     "text": [
      "/usr/lib/python3/dist-packages/urllib3/connectionpool.py:1015: InsecureRequestWarning: Unverified HTTPS request is being made to host 'krata.ru'. Adding certificate verification is strongly advised. See: https://urllib3.readthedocs.io/en/latest/advanced-usage.html#ssl-warnings\n",
      "  warnings.warn(\n",
      "/usr/lib/python3/dist-packages/urllib3/connectionpool.py:1015: InsecureRequestWarning: Unverified HTTPS request is being made to host 'metafrax.ru'. Adding certificate verification is strongly advised. See: https://urllib3.readthedocs.io/en/latest/advanced-usage.html#ssl-warnings\n",
      "  warnings.warn(\n"
     ]
    },
    {
     "name": "stdout",
     "output_type": "stream",
     "text": [
      "https://metafrax.ru : 200\n"
     ]
    },
    {
     "name": "stderr",
     "output_type": "stream",
     "text": [
      "/usr/lib/python3/dist-packages/urllib3/connectionpool.py:1015: InsecureRequestWarning: Unverified HTTPS request is being made to host 'www.soda.ru'. Adding certificate verification is strongly advised. See: https://urllib3.readthedocs.io/en/latest/advanced-usage.html#ssl-warnings\n",
      "  warnings.warn(\n"
     ]
    },
    {
     "name": "stdout",
     "output_type": "stream",
     "text": [
      "https://www.soda.ru/ru/ : 200\n"
     ]
    },
    {
     "name": "stderr",
     "output_type": "stream",
     "text": [
      "/usr/lib/python3/dist-packages/urllib3/connectionpool.py:1015: InsecureRequestWarning: Unverified HTTPS request is being made to host 'www.kuazot.ru'. Adding certificate verification is strongly advised. See: https://urllib3.readthedocs.io/en/latest/advanced-usage.html#ssl-warnings\n",
      "  warnings.warn(\n"
     ]
    },
    {
     "name": "stdout",
     "output_type": "stream",
     "text": [
      "https://www.kuazot.ru : 200\n"
     ]
    },
    {
     "name": "stderr",
     "output_type": "stream",
     "text": [
      "/usr/lib/python3/dist-packages/urllib3/connectionpool.py:1015: InsecureRequestWarning: Unverified HTTPS request is being made to host 'omskcarbongroup.com'. Adding certificate verification is strongly advised. See: https://urllib3.readthedocs.io/en/latest/advanced-usage.html#ssl-warnings\n",
      "  warnings.warn(\n",
      "/usr/lib/python3/dist-packages/urllib3/connectionpool.py:1015: InsecureRequestWarning: Unverified HTTPS request is being made to host 'kamaz.ru'. Adding certificate verification is strongly advised. See: https://urllib3.readthedocs.io/en/latest/advanced-usage.html#ssl-warnings\n",
      "  warnings.warn(\n"
     ]
    },
    {
     "name": "stdout",
     "output_type": "stream",
     "text": [
      "https://omskcarbongroup.com/#0 : 200\n",
      "https://kamaz.ru : 200\n",
      "http://www.tmholding.ru/ : 200\n"
     ]
    },
    {
     "name": "stderr",
     "output_type": "stream",
     "text": [
      "/usr/lib/python3/dist-packages/urllib3/connectionpool.py:1015: InsecureRequestWarning: Unverified HTTPS request is being made to host 'www.tmholding.ru'. Adding certificate verification is strongly advised. See: https://urllib3.readthedocs.io/en/latest/advanced-usage.html#ssl-warnings\n",
      "  warnings.warn(\n",
      "/usr/lib/python3/dist-packages/urllib3/connectionpool.py:1015: InsecureRequestWarning: Unverified HTTPS request is being made to host 'tmholding.ru'. Adding certificate verification is strongly advised. See: https://urllib3.readthedocs.io/en/latest/advanced-usage.html#ssl-warnings\n",
      "  warnings.warn(\n",
      "/usr/lib/python3/dist-packages/urllib3/connectionpool.py:1015: InsecureRequestWarning: Unverified HTTPS request is being made to host 'aoosk.ru'. Adding certificate verification is strongly advised. See: https://urllib3.readthedocs.io/en/latest/advanced-usage.html#ssl-warnings\n",
      "  warnings.warn(\n"
     ]
    },
    {
     "name": "stdout",
     "output_type": "stream",
     "text": [
      "https://aoosk.ru : 200\n"
     ]
    },
    {
     "name": "stderr",
     "output_type": "stream",
     "text": [
      "/usr/lib/python3/dist-packages/urllib3/connectionpool.py:1015: InsecureRequestWarning: Unverified HTTPS request is being made to host 'azgaz.ru'. Adding certificate verification is strongly advised. See: https://urllib3.readthedocs.io/en/latest/advanced-usage.html#ssl-warnings\n",
      "  warnings.warn(\n",
      "/usr/lib/python3/dist-packages/urllib3/connectionpool.py:1015: InsecureRequestWarning: Unverified HTTPS request is being made to host 'autoplatform.ru'. Adding certificate verification is strongly advised. See: https://urllib3.readthedocs.io/en/latest/advanced-usage.html#ssl-warnings\n",
      "  warnings.warn(\n"
     ]
    },
    {
     "name": "stdout",
     "output_type": "stream",
     "text": [
      "https://azgaz.ru : 200\n"
     ]
    },
    {
     "name": "stderr",
     "output_type": "stream",
     "text": [
      "/usr/lib/python3/dist-packages/urllib3/connectionpool.py:1015: InsecureRequestWarning: Unverified HTTPS request is being made to host 'www.sinara-group.com'. Adding certificate verification is strongly advised. See: https://urllib3.readthedocs.io/en/latest/advanced-usage.html#ssl-warnings\n",
      "  warnings.warn(\n"
     ]
    },
    {
     "name": "stdout",
     "output_type": "stream",
     "text": [
      "https://www.sinara-group.com : 200\n"
     ]
    },
    {
     "name": "stderr",
     "output_type": "stream",
     "text": [
      "/usr/lib/python3/dist-packages/urllib3/connectionpool.py:1015: InsecureRequestWarning: Unverified HTTPS request is being made to host 'cordiant.ru'. Adding certificate verification is strongly advised. See: https://urllib3.readthedocs.io/en/latest/advanced-usage.html#ssl-warnings\n",
      "  warnings.warn(\n"
     ]
    },
    {
     "name": "stdout",
     "output_type": "stream",
     "text": [
      "https://cordiant.ru : 200\n"
     ]
    },
    {
     "name": "stderr",
     "output_type": "stream",
     "text": [
      "/usr/lib/python3/dist-packages/urllib3/connectionpool.py:1015: InsecureRequestWarning: Unverified HTTPS request is being made to host 'www.uacrussia.ru'. Adding certificate verification is strongly advised. See: https://urllib3.readthedocs.io/en/latest/advanced-usage.html#ssl-warnings\n",
      "  warnings.warn(\n"
     ]
    },
    {
     "name": "stdout",
     "output_type": "stream",
     "text": [
      "https://www.uacrussia.ru/ru/ : 200\n"
     ]
    },
    {
     "name": "stderr",
     "output_type": "stream",
     "text": [
      "/usr/lib/python3/dist-packages/urllib3/connectionpool.py:1015: InsecureRequestWarning: Unverified HTTPS request is being made to host 'nordsy.spb.ru'. Adding certificate verification is strongly advised. See: https://urllib3.readthedocs.io/en/latest/advanced-usage.html#ssl-warnings\n",
      "  warnings.warn(\n"
     ]
    },
    {
     "name": "stdout",
     "output_type": "stream",
     "text": [
      "https://nordsy.spb.ru/ : 200\n"
     ]
    },
    {
     "name": "stderr",
     "output_type": "stream",
     "text": [
      "/usr/lib/python3/dist-packages/urllib3/connectionpool.py:1015: InsecureRequestWarning: Unverified HTTPS request is being made to host 'power-m.ru'. Adding certificate verification is strongly advised. See: https://urllib3.readthedocs.io/en/latest/advanced-usage.html#ssl-warnings\n",
      "  warnings.warn(\n"
     ]
    },
    {
     "name": "stdout",
     "output_type": "stream",
     "text": [
      "https://power-m.ru/ : 200\n",
      "https://onegoshipyard.ru/ : 200\n"
     ]
    },
    {
     "name": "stderr",
     "output_type": "stream",
     "text": [
      "/usr/lib/python3/dist-packages/urllib3/connectionpool.py:1015: InsecureRequestWarning: Unverified HTTPS request is being made to host 'onegoshipyard.ru'. Adding certificate verification is strongly advised. See: https://urllib3.readthedocs.io/en/latest/advanced-usage.html#ssl-warnings\n",
      "  warnings.warn(\n",
      "/usr/lib/python3/dist-packages/urllib3/connectionpool.py:1015: InsecureRequestWarning: Unverified HTTPS request is being made to host 'kirovets-ptz.com'. Adding certificate verification is strongly advised. See: https://urllib3.readthedocs.io/en/latest/advanced-usage.html#ssl-warnings\n",
      "  warnings.warn(\n"
     ]
    },
    {
     "name": "stdout",
     "output_type": "stream",
     "text": [
      "https://kirovets-ptz.com/ : 200\n"
     ]
    }
   ],
   "source": [
    "get_responce(list(DataSet[' Вебсайт']))"
   ]
  },
  {
   "cell_type": "code",
   "execution_count": null,
   "id": "782ad742-a88d-43b0-9229-cd51b02a8d05",
   "metadata": {},
   "outputs": [],
   "source": []
  }
 ],
 "metadata": {
  "kernelspec": {
   "display_name": "Python 3 (ipykernel)",
   "language": "python",
   "name": "python3"
  },
  "language_info": {
   "codemirror_mode": {
    "name": "ipython",
    "version": 3
   },
   "file_extension": ".py",
   "mimetype": "text/x-python",
   "name": "python",
   "nbconvert_exporter": "python",
   "pygments_lexer": "ipython3",
   "version": "3.10.12"
  }
 },
 "nbformat": 4,
 "nbformat_minor": 5
}
